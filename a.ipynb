{
 "cells": [
  {
   "cell_type": "markdown",
   "metadata": {},
   "source": [
    "function samples"
   ]
  },
  {
   "cell_type": "code",
   "execution_count": 1,
   "metadata": {},
   "outputs": [
    {
     "ename": "NameError",
     "evalue": "name 'Roses' is not defined",
     "output_type": "error",
     "traceback": [
      "\u001b[1;31m---------------------------------------------------------------------------\u001b[0m",
      "\u001b[1;31mNameError\u001b[0m                                 Traceback (most recent call last)",
      "Cell \u001b[1;32mIn[1], line 3\u001b[0m\n\u001b[0;32m      1\u001b[0m \u001b[38;5;28;01mdef\u001b[39;00m \u001b[38;5;21mfunc1\u001b[39m(a):\n\u001b[0;32m      2\u001b[0m     \u001b[38;5;28mprint\u001b[39m(\u001b[38;5;124m\"\u001b[39m\u001b[38;5;124mU don\u001b[39m\u001b[38;5;124m'\u001b[39m\u001b[38;5;124mt like\u001b[39m\u001b[38;5;124m\"\u001b[39m\u001b[38;5;241m+\u001b[39ma)\n\u001b[1;32m----> 3\u001b[0m flowers\u001b[38;5;241m=\u001b[39m[Roses,Peonies,Lilies]\n\u001b[0;32m      4\u001b[0m n\u001b[38;5;241m=\u001b[39m\u001b[38;5;28mstr\u001b[39m(\u001b[38;5;28minput\u001b[39m(\u001b[38;5;124m\"\u001b[39m\u001b[38;5;124mchoose flower you do not like :Roses,Peonies,Lilies\u001b[39m\u001b[38;5;124m\"\u001b[39m))\n\u001b[0;32m      5\u001b[0m \u001b[38;5;28mprint\u001b[39m(func(flowers[n]))\n",
      "\u001b[1;31mNameError\u001b[0m: name 'Roses' is not defined"
     ]
    }
   ],
   "source": [
    "def func1(a):\n",
    "    print(\"U don't like\"+a)\n",
    "flowers=[Roses,Peonies,Lilies]\n",
    "n=str(input(\"choose flower you do not like :Roses,Peonies,Lilies\"))\n",
    "print(func(flowers[n]))"
   ]
  }
 ],
 "metadata": {
  "kernelspec": {
   "display_name": "base",
   "language": "python",
   "name": "python3"
  },
  "language_info": {
   "codemirror_mode": {
    "name": "ipython",
    "version": 3
   },
   "file_extension": ".py",
   "mimetype": "text/x-python",
   "name": "python",
   "nbconvert_exporter": "python",
   "pygments_lexer": "ipython3",
   "version": "3.12.7"
  }
 },
 "nbformat": 4,
 "nbformat_minor": 2
}
