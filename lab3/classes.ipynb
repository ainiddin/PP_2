{
 "cells": [
  {
   "cell_type": "markdown",
   "metadata": {},
   "source": [
    "1st task:"
   ]
  },
  {
   "cell_type": "code",
   "execution_count": 12,
   "metadata": {},
   "outputs": [
    {
     "name": "stdout",
     "output_type": "stream",
     "text": [
      "The output is: ZSC\n"
     ]
    }
   ],
   "source": [
    "class String:\n",
    "    def getString(self):\n",
    "        self.s=str(input(\"sentence: \"))\n",
    "    def printString(self):\n",
    "        print(\"The output is: \"+self.s.upper())\n",
    "a=String()\n",
    "a.getString()\n",
    "a.printString()"
   ]
  },
  {
   "cell_type": "markdown",
   "metadata": {},
   "source": [
    "2nd task:"
   ]
  },
  {
   "cell_type": "code",
   "execution_count": 32,
   "metadata": {},
   "outputs": [
    {
     "ename": "TypeError",
     "evalue": "Square.__init__() missing 1 required positional argument: 'length'",
     "output_type": "error",
     "traceback": [
      "\u001b[1;31m---------------------------------------------------------------------------\u001b[0m",
      "\u001b[1;31mTypeError\u001b[0m                                 Traceback (most recent call last)",
      "Cell \u001b[1;32mIn[32], line 10\u001b[0m\n\u001b[0;32m      8\u001b[0m         \u001b[38;5;28mprint\u001b[39m( \u001b[38;5;28mself\u001b[39m\u001b[38;5;241m.\u001b[39mlength\u001b[38;5;241m*\u001b[39m\u001b[38;5;241m*\u001b[39m\u001b[38;5;241m2\u001b[39m)\n\u001b[0;32m      9\u001b[0m a\u001b[38;5;241m=\u001b[39m\u001b[38;5;28mint\u001b[39m(\u001b[38;5;28minput\u001b[39m(\u001b[38;5;124m\"\u001b[39m\u001b[38;5;124mgive a length: \u001b[39m\u001b[38;5;124m\"\u001b[39m))\n\u001b[1;32m---> 10\u001b[0m b\u001b[38;5;241m=\u001b[39mSquare()\n\u001b[0;32m     11\u001b[0m b\u001b[38;5;241m.\u001b[39marea(a)\n\u001b[0;32m     12\u001b[0m c\u001b[38;5;241m=\u001b[39mShape()\n",
      "\u001b[1;31mTypeError\u001b[0m: Square.__init__() missing 1 required positional argument: 'length'"
     ]
    }
   ],
   "source": [
    "class Shape:\n",
    "    def area(self):\n",
    "        print(0)\n",
    "class Square(Shape):    \n",
    "    def __init__(self,length):\n",
    "        self.length=length\n",
    "    def area(self):\n",
    "        print( self.length**2)\n",
    "a=int(input(\"give a length: \"))\n",
    "b=Square(s)\n",
    "b.area()\n",
    "c=Shape()\n",
    "c.area()"
   ]
  },
  {
   "cell_type": "markdown",
   "metadata": {},
   "source": [
    "3rd task"
   ]
  },
  {
   "cell_type": "code",
   "execution_count": 33,
   "metadata": {},
   "outputs": [
    {
     "name": "stdout",
     "output_type": "stream",
     "text": [
      "50\n",
      "0\n"
     ]
    }
   ],
   "source": [
    "class Shape:\n",
    "    def area(self):\n",
    "        print(0)\n",
    "class Rectangle(Shape):    \n",
    "    def __init__(self,length,width):\n",
    "        self.length=length\n",
    "        self.width=width\n",
    "    def area(self):\n",
    "        print( self.length*self.width)\n",
    "a=int(input(\"give a length: \"))\n",
    "b=int(input(\"give a width: \"))\n",
    "c=Rectangle(a,b)\n",
    "c.area()\n",
    "d=Shape()\n",
    "d.area()"
   ]
  },
  {
   "cell_type": "markdown",
   "metadata": {},
   "source": [
    "4th task"
   ]
  },
  {
   "cell_type": "code",
   "execution_count": null,
   "metadata": {},
   "outputs": [],
   "source": [
    "import math\n",
    "\n",
    "\n",
    "class Point:\n",
    "    def __init__(self, x, y):\n",
    "        self.x = x\n",
    "        self.y = y\n",
    "\n",
    "    def show(self):\n",
    "        print(f\"Coordinates: ({self.x}, {self.y})\")\n",
    "\n",
    "    def move(self, x1, y1):\n",
    "        self.x = x1\n",
    "        self.y = y1\n",
    "\n",
    "    def dist(self, point2):\n",
    "        dx = self.x - point2.x\n",
    "        dy = self.y - point2.y\n",
    "        distance = math.sqrt(dx**2 + dy**2)\n",
    "        return distance\n",
    "\n",
    "\n",
    "a = int(input(\"x:\"))\n",
    "b = int(input(\"y:\"))\n",
    "point1 = Point(a, b)\n",
    "point2 = Point(a, b)\n",
    "\n",
    "point1.show()\n",
    "k = float(input(\"x1:\"))\n",
    "p = float(input(\"y1:\"))\n",
    "point1.move(k, p)\n",
    "point1.show()\n",
    "\n",
    "distance = point1.dist(point2)\n",
    "print(f\"Distance between point1 and point2: {distance}\")"
   ]
  },
  {
   "cell_type": "markdown",
   "metadata": {},
   "source": [
    "5th task"
   ]
  },
  {
   "cell_type": "code",
   "execution_count": null,
   "metadata": {},
   "outputs": [],
   "source": [
    "class Bank():\n",
    "    def __init__(self, account, money):\n",
    "        self.money = money\n",
    "        self.account = account\n",
    "\n",
    "    def balance(self):\n",
    "        return self.money\n",
    "\n",
    "    def owner(self):\n",
    "        return self.account\n",
    "\n",
    "    def deposit(self, money):\n",
    "        self.money += money\n",
    "\n",
    "        return f\"You are deposit {money} money\"\n",
    "\n",
    "    def withdraw(self, money):\n",
    "        if self.money - money < 0:\n",
    "            return \"insufficient funds\"\n",
    "        else:\n",
    "            self.money -= money\n",
    "\n",
    "            return f\"you're balance: {self.money},  and you take {money}\"\n",
    "\n",
    "\n",
    "bank = Bank(\"Bekzat\", 1000)\n",
    "\n",
    "print(bank.balance())\n",
    "\n",
    "print(bank.owner())\n",
    "\n",
    "print(bank.deposit(1000))\n",
    "\n",
    "print(bank.withdraw(3000))\n",
    "\n",
    "print(bank.withdraw(2000))"
   ]
  },
  {
   "cell_type": "markdown",
   "metadata": {},
   "source": [
    "6th task"
   ]
  },
  {
   "cell_type": "code",
   "execution_count": null,
   "metadata": {},
   "outputs": [],
   "source": [
    "class Prime:\n",
    "    def __init__(self, numbers):\n",
    "        self.numbers = numbers\n",
    "\n",
    "    def is_prime(self, num):\n",
    "        if num < 2:\n",
    "            return False\n",
    "        for i in range(2, int(num**0.5) + 1):\n",
    "            if num % i == 0:\n",
    "                return False\n",
    "        return True\n",
    "\n",
    "    def filter_prime_numbers(self):\n",
    "        return list(filter(lambda x: self.is_prime(x), self.numbers))\n",
    "\n",
    "\n",
    "n = int(input(\"n: \"))\n",
    "mylist = []\n",
    "for i in range(n):\n",
    "    number = int(input(\"number: \"))\n",
    "    mylist.append(number)\n",
    "\n",
    "prime_filter = Prime(mylist)\n",
    "print(prime_filter.filter_prime_numbers())"
   ]
  }
 ],
 "metadata": {
  "kernelspec": {
   "display_name": "base",
   "language": "python",
   "name": "python3"
  },
  "language_info": {
   "codemirror_mode": {
    "name": "ipython",
    "version": 3
   },
   "file_extension": ".py",
   "mimetype": "text/x-python",
   "name": "python",
   "nbconvert_exporter": "python",
   "pygments_lexer": "ipython3",
   "version": "3.12.7"
  }
 },
 "nbformat": 4,
 "nbformat_minor": 2
}
