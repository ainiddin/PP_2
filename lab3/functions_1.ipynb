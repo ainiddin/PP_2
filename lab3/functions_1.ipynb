{
 "cells": [
  {
   "cell_type": "markdown",
   "metadata": {},
   "source": [
    "1st task"
   ]
  },
  {
   "cell_type": "code",
   "execution_count": 1,
   "metadata": {},
   "outputs": [
    {
     "name": "stdout",
     "output_type": "stream",
     "text": [
      "ounces= 1559.2237705\n"
     ]
    }
   ],
   "source": [
    "def grams(gram):\n",
    "    ounces = 28.3495231 * gram\n",
    "    return ounces\n",
    "gram=float(input(\"gram:\"))\n",
    "print(\"ounces=\",grams(gram))"
   ]
  },
  {
   "cell_type": "markdown",
   "metadata": {},
   "source": [
    "2nd task"
   ]
  },
  {
   "cell_type": "code",
   "execution_count": 2,
   "metadata": {},
   "outputs": [
    {
     "name": "stdout",
     "output_type": "stream",
     "text": [
      "celcie: 7.222222222222222\n"
     ]
    }
   ],
   "source": [
    "def temperature(F):\n",
    "    C = (5 / 9) * (F - 32)\n",
    "    return C\n",
    "F=float(input(\"frongate:\"))\n",
    "print(\"celcie:\",temperature(F))"
   ]
  },
  {
   "cell_type": "markdown",
   "metadata": {},
   "source": [
    "3rd task"
   ]
  },
  {
   "cell_type": "code",
   "execution_count": 3,
   "metadata": {},
   "outputs": [
    {
     "name": "stdout",
     "output_type": "stream",
     "text": [
      "chicken 23, rabbits 12 \n"
     ]
    }
   ],
   "source": [
    "def heads(head, legs):\n",
    "    for i in range(1,head):\n",
    "        if i*2 + (head-i)*4==legs:\n",
    "            return f\"chicken {i}, rabbits {head-i} \"\n",
    "\n",
    "print(heads(35, 94))"
   ]
  },
  {
   "cell_type": "markdown",
   "metadata": {},
   "source": [
    "4th task "
   ]
  },
  {
   "cell_type": "code",
   "execution_count": null,
   "metadata": {},
   "outputs": [],
   "source": [
    "def is_prime(num):\n",
    "    if num < 2:\n",
    "        return False\n",
    "    for i in range(2, int(num**0.5) + 1):\n",
    "        if num % i == 0:\n",
    "            return False\n",
    "    return True\n",
    "\n",
    "def filter_prime(numbers):\n",
    "    return list(filter(is_prime, numbers))\n",
    "\n",
    "numbers_str = input(\"enter list numbers: \")\n",
    "numbers_list = list(map(int, numbers_str.split()))\n",
    "\n",
    "prime_numbers = filter_prime(numbers_list)\n",
    "print(\"Prime numbers:\", prime_numbers)"
   ]
  },
  {
   "cell_type": "markdown",
   "metadata": {},
   "source": [
    "5th task"
   ]
  },
  {
   "cell_type": "code",
   "execution_count": null,
   "metadata": {},
   "outputs": [],
   "source": [
    "def permutations(some):\n",
    "    n = len(some)\n",
    "\n",
    "    for i in range(n):\n",
    "        for j in range(n):\n",
    "            print(some[(j-i)], end=\" \")\n",
    "        print()\n",
    "k=str(input(\"soz:\"))\n",
    "permutations(k)"
   ]
  },
  {
   "cell_type": "markdown",
   "metadata": {},
   "source": [
    "6th task"
   ]
  },
  {
   "cell_type": "code",
   "execution_count": 5,
   "metadata": {},
   "outputs": [
    {
     "name": "stdout",
     "output_type": "stream",
     "text": [
      "ffda as asf asdf "
     ]
    }
   ],
   "source": [
    "def _reverse(strings):\n",
    "    strings=list(strings.split())\n",
    "    strings.reverse()\n",
    "    for i in strings:\n",
    "        print(i, end=\" \")\n",
    "\n",
    "k=str(input(\"soz:\"))\n",
    "_reverse(k)"
   ]
  },
  {
   "cell_type": "markdown",
   "metadata": {},
   "source": [
    "7th task"
   ]
  },
  {
   "cell_type": "code",
   "execution_count": 6,
   "metadata": {},
   "outputs": [
    {
     "name": "stdout",
     "output_type": "stream",
     "text": [
      "True\n",
      "False\n",
      "False\n"
     ]
    }
   ],
   "source": [
    "def has_33(nums):\n",
    "    for i in range(len(nums) - 1):\n",
    "        if nums[i] == 3 and nums[i + 1] == 3:\n",
    "            return True\n",
    "    return False\n",
    "\n",
    "\n",
    "has_33([1, 3, 3])\n",
    "print(has_33([1, 3, 3]))\n",
    "print(has_33([1, 3, 1, 3]))\n",
    "print(has_33([3, 1, 3]))"
   ]
  },
  {
   "cell_type": "markdown",
   "metadata": {},
   "source": [
    "8th task"
   ]
  },
  {
   "cell_type": "code",
   "execution_count": 7,
   "metadata": {},
   "outputs": [
    {
     "name": "stdout",
     "output_type": "stream",
     "text": [
      "True\n",
      "True\n",
      "False\n"
     ]
    }
   ],
   "source": [
    "def order007(arr):\n",
    "    result = []\n",
    "    for i in arr:\n",
    "        if i==0 or i==7:\n",
    "            result.append(i)\n",
    "    \n",
    "    flag =  False\n",
    "    for i in range(len(result)-2):\n",
    "        if result[i]==result[i+1] and result[i]==0 and result[i+2]==7:\n",
    "            flag = True\n",
    "        \n",
    "    if flag:\n",
    "        print(\"True\")\n",
    "    else:\n",
    "        print(\"False\")\n",
    "\n",
    "order007([1,2,4,0,0,5,7])\n",
    "order007([1,0,2,4,0,5,7])\n",
    "order007([1,7,2,0,4,5,0])"
   ]
  },
  {
   "cell_type": "markdown",
   "metadata": {},
   "source": [
    "9th task"
   ]
  },
  {
   "cell_type": "code",
   "execution_count": null,
   "metadata": {},
   "outputs": [],
   "source": [
    "import math\n",
    "def volumespher(radius):\n",
    "    V=(4*math.pi*(radius**3))/3\n",
    "    return V\n",
    "    \n",
    "radius=float(input(\"radius:\"))\n",
    "print(volumespher(radius))"
   ]
  },
  {
   "cell_type": "markdown",
   "metadata": {},
   "source": [
    "10th task"
   ]
  },
  {
   "cell_type": "code",
   "execution_count": null,
   "metadata": {},
   "outputs": [],
   "source": [
    "def unique(mylist):\n",
    "    result = []\n",
    "    for i in mylist:\n",
    "        if mylist.count(i) == 1:\n",
    "            result.append(i)\n",
    "    return result\n",
    "\n",
    "n = int(input(\"n: \"))\n",
    "mylist = []\n",
    "for i in range(n):\n",
    "    number = int(input(\"number: \"))\n",
    "    mylist.append(number)\n",
    "print(unique(mylist))"
   ]
  },
  {
   "cell_type": "markdown",
   "metadata": {},
   "source": [
    "11th task"
   ]
  },
  {
   "cell_type": "code",
   "execution_count": null,
   "metadata": {},
   "outputs": [],
   "source": [
    "def palindrom(text):\n",
    "    if text==text[::-1]:\n",
    "        print(\"YES\")\n",
    "    else:\n",
    "        print(\"NO\")\n",
    "\n",
    "text = input(\"text: \")\n",
    "palindrom(text)"
   ]
  },
  {
   "cell_type": "markdown",
   "metadata": {},
   "source": [
    "12th task"
   ]
  },
  {
   "cell_type": "code",
   "execution_count": null,
   "metadata": {},
   "outputs": [],
   "source": [
    "def histogram(arr):\n",
    "    for i in arr:\n",
    "        print(\"*\"*i)\n",
    "n=input(\"numbers:\")\n",
    "mylist=list(map(int,n.split()))\n",
    "histogram(mylist)"
   ]
  },
  {
   "cell_type": "markdown",
   "metadata": {},
   "source": [
    "13th task"
   ]
  },
  {
   "cell_type": "code",
   "execution_count": null,
   "metadata": {},
   "outputs": [],
   "source": [
    "from random import randint\n",
    "\n",
    "def guessanumber():\n",
    "    print(\"Hello! What is your name?\")\n",
    "    name = input(\"name:\")\n",
    "    print(f\"Well, {name}, I am thinking of a number between 1 and 20.\")\n",
    "    number = randint(1,20)\n",
    "    sum = 0\n",
    "    run = True\n",
    "    while run:\n",
    "        guess = int(input(\"Take a guess: \"))\n",
    "        sum+=1\n",
    "        if guess == number:\n",
    "            run = False\n",
    "            print(f\"Good job, {name}! You guessed my number in {sum} guesses!\")\n",
    "            break\n",
    "        if guess>number:\n",
    "            print(\"Your guess is too high.\")\n",
    "        else:\n",
    "            print(\"Your guess is too low\")\n",
    "\n",
    "\n",
    "guessanumber()"
   ]
  },
  {
   "cell_type": "markdown",
   "metadata": {},
   "source": [
    "14th task"
   ]
  },
  {
   "cell_type": "code",
   "execution_count": 8,
   "metadata": {},
   "outputs": [
    {
     "name": "stdout",
     "output_type": "stream",
     "text": [
      "Hello! What is your name?\n",
      "Well, 45, I am thinking of a number between 1 and 20.\n",
      "Your guess is too low\n",
      "Your guess is too low\n",
      "Your guess is too high.\n",
      "Your guess is too high.\n",
      "Good job, 45! You guessed my number in 5 guesses!\n",
      "[10, 6, 9, 9, 1, 8, 3, 7, 10, 7]\n"
     ]
    }
   ],
   "source": [
    "from random import randint\n",
    "\n",
    "def guessanumber():\n",
    "    print(\"Hello! What is your name?\")\n",
    "    name = input()\n",
    "    print(f\"Well, {name}, I am thinking of a number between 1 and 20.\")\n",
    "    number = randint(1,20)\n",
    "    sum = 0\n",
    "    run = True\n",
    "    while run:\n",
    "        guess = int(input(\"Take a guess: \"))\n",
    "        sum+=1\n",
    "        if guess == number:\n",
    "            run = False\n",
    "            print(f\"Good job, {name}! You guessed my number in {sum} guesses!\")\n",
    "            break\n",
    "        if guess>number:\n",
    "            print(\"Your guess is too high.\")\n",
    "        else:\n",
    "            print(\"Your guess is too low\")\n",
    "\n",
    "\n",
    "guessanumber()\n",
    "def randomator(start, end, length):\n",
    "    arr=[randint(start, end)for i in range(length)]\n",
    "    print(arr)\n",
    "randomator(1,10,10)"
   ]
  }
 ],
 "metadata": {
  "kernelspec": {
   "display_name": "base",
   "language": "python",
   "name": "python3"
  },
  "language_info": {
   "codemirror_mode": {
    "name": "ipython",
    "version": 3
   },
   "file_extension": ".py",
   "mimetype": "text/x-python",
   "name": "python",
   "nbconvert_exporter": "python",
   "pygments_lexer": "ipython3",
   "version": "3.12.7"
  }
 },
 "nbformat": 4,
 "nbformat_minor": 2
}
